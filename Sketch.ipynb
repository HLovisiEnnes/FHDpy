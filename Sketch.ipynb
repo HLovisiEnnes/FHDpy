{
 "cells": [
  {
   "cell_type": "code",
   "execution_count": 46,
   "id": "58e2404f-567f-490b-a9ad-3f5d3d67f6d9",
   "metadata": {
    "tags": []
   },
   "outputs": [],
   "source": [
    "class Symbol:\n",
    "    '''\n",
    "    Defines a (non-terminal) symbol for the SLP. We use the following convention:\n",
    "    - simple: a variable starting with a letter that belongs to the alphabet, including the empty letter ''\n",
    "        Ex.: 'a', 'A1', 'A1*',''\n",
    "        \n",
    "    - assignment: a variable that refers to a previous assignment in the SLP of form '#Integer'\n",
    "        Ex.: '#3'\n",
    "    \n",
    "    The symbol * is reserved for negations\n",
    "    Ex.: 'A3*' = A3^{-1}, '#3*' = (#3)^{-1}\n",
    "    \n",
    "    The symbol . is reserved for multiplication and power in the SLP and should not be used in symbols\n",
    "    '''\n",
    "    def __init__(self, value = ''):\n",
    "        # Raises errors in cases of incorrect type\n",
    "        if type(value)!= str in value:\n",
    "            raise TypeError('Value of symbol must be a string!')\n",
    "        elif '.' in value in value:\n",
    "            raise TypeError('The symbol . is reserved for multiplications in the SLP and should not be used in symbols!')\n",
    "        \n",
    "        self.value = value\n",
    "        \n",
    "        # Get the type of non-terminal, i.e., simple or assignment. If incorrect input, raises an error \n",
    "        if value == '' or value[0].isalpha():\n",
    "            self.type  = 'simple'\n",
    "        elif value[0] == '#' and value[1:].isnumeric():\n",
    "            self.type = 'assignment'\n",
    "        else:\n",
    "            raise TypeError(\"Symbol must be either the empty symbol '', a alphanumeric variable, or an assignment (starting with '#')!\")\n",
    "            \n",
    "        # Assign the absolute value\n",
    "        if self.value[-1] == '*':\n",
    "            self.absolute = self.value[:-1]  \n",
    "        else:\n",
    "            self.absolute = self.value\n",
    "        \n",
    "        # Every symbol will have, by definition, lenght 1. Only implemented here for code coherence\n",
    "        self.len = 1\n",
    "    \n",
    "    # Every symbol will have, by definition, lenght 1. Only implemented here for code coherence\n",
    "    def __len__(self):\n",
    "        '''\n",
    "        Returns the lenght of a sequence of symbols\n",
    "        '''\n",
    "        return self.len\n",
    "    \n",
    "    # Prints symbol, for convenience only\n",
    "    def __str__(self):\n",
    "        '''\n",
    "        Prints a sequence\n",
    "        '''\n",
    "        return self.value"
   ]
  },
  {
   "cell_type": "markdown",
   "id": "90ca5839-f9e7-4edc-9eae-2cd049ccc9e5",
   "metadata": {},
   "source": [
    "To do:\n",
    " - implement inverse"
   ]
  },
  {
   "cell_type": "code",
   "execution_count": 469,
   "id": "71717dda-370b-45b0-8056-e3ce66a63a3b",
   "metadata": {
    "tags": []
   },
   "outputs": [],
   "source": [
    "class SLP:\n",
    "    '''\n",
    "    SLP of the sequence xn are lists of strings, which we call list forms, with each string of form 'x1.x2.x3....xn', where 'xi' are known as symbols. Each symbol can be \n",
    "    - simple: a variable starting with a letter that belongs to the alphabet, including the empty letter ''\n",
    "        Ex.: 'a', 'A1', 'A1*',''\n",
    "        \n",
    "    - proper assignment: a variable that refers to a previous assignment in the SLP of form '#Integer'\n",
    "        Ex.: '#3'\n",
    "    \n",
    "    The symbol * is reserved for negations\n",
    "    Ex.: 'A3*' = A3^{-1}, '#3*' = (#3)^{-1}\n",
    "    \n",
    "    The symbol '.' is reserved for multiplication and power in the SLP and should not be used in symbols.\n",
    "    \n",
    "    CAUTION: power notation is not currently implemented.\n",
    "    '''\n",
    "    def __init__(self, slp):\n",
    "        self.list_form = slp\n",
    "    \n",
    "    \n",
    "    '''\n",
    "    Basic operations\n",
    "    '''\n",
    "    \n",
    "    \n",
    "    def __str__(self):\n",
    "        '''\n",
    "        Print list form,\n",
    "        \n",
    "        Ex.: print(['x','y','#0.#1'])\n",
    "        >> 0. x\n",
    "        1. y\n",
    "        2. #0.#1\n",
    "        '''\n",
    "        for i,el in enumerate(self.list_form):\n",
    "            if i == 0:\n",
    "                print_form = '0. ' + el \n",
    "            else:\n",
    "                print_form += '\\n' + str(i) + '. ' + el\n",
    "        return print_form\n",
    "    \n",
    "    \n",
    "    def __len__(self):\n",
    "        '''\n",
    "        Get lenght of the represented word.\n",
    "        \n",
    "        Ex.: len(['x','y','#0.#1.x.x*']) = 4\n",
    "        \n",
    "        The gernal case is implemented using dynamic programming (memorization), only faster than counting occurances of last sequence if SLP is compressed, otherwise get length on the\n",
    "        last assignment \n",
    "        '''\n",
    "        if not '#' in self.list_form[-1]: # If the SLP is not compressed.\n",
    "            return len(self.list_form[-1].split('.')) if self.list_form[-1] != '' else 0\n",
    "        \n",
    "        else:\n",
    "            past_indexes = [] # List of the number of occurances of the symbol for each assignment, counting proper assignments.\n",
    "            current_index = -1 # Keeps track of current index to call error, if impossible assignment.\n",
    "            \n",
    "            for assmnt in self.list_form:\n",
    "                current_index += 1 # Update the current index.\n",
    "                count = 0 # Will store the lenght of the current assignment.\n",
    "               \n",
    "                for symbol_assmnt in assmnt.split('.'): # Iterate over the symbols of the assignment.  \n",
    "                    if symbol_assmnt[0] == '#': # If a proper assignment, lenght of the assigned value.\n",
    "                        \n",
    "                        # The if statement below is important to deal with negative assigenments (i.e., of form #n*).\n",
    "                        reference = int(symbol_assmnt[1:]) if symbol_assmnt[-1] != '*' else int(symbol_assmnt[1:-1])\n",
    "                        \n",
    "                        if reference > current_index - 1: # If a proper assignment points to a yet unassigned position, raises an error.\n",
    "                            raise ValueError(\"Assigment in position \" + str(current_index) + \" makes reference to unassigned position!\")\n",
    "                        else:\n",
    "                            count += past_indexes[reference] #Update count according to the values of proper asignments.\n",
    "                    elif '' != symbol_assmnt:  # If not a proper assignement and it is a non-trivial simple assignement, the leght increases by 1.\n",
    "                        count += 1 \n",
    "                past_indexes.append(count)\n",
    "\n",
    "\n",
    "            return past_indexes[-1]\n",
    "    \n",
    "    def complexity(self):\n",
    "        '''\n",
    "        Return the classical complexity of the SLP as the sum of lenghts of the RHS.\n",
    "        \n",
    "        Ex.: slp_complexity(['x','y','#0.#1']) = 4\n",
    "        '''\n",
    "        return sum([len(l.split('.')) for l in self.list_form])\n",
    "    \n",
    "    \n",
    "    def inverse(self, inplace = False):\n",
    "        '''\n",
    "        Return an SLP for the inverse of the sequence presented by the SLP.\n",
    "        \n",
    "        inplace : bool\n",
    "        If True, susbtitutes the initial SLP for its inverse.\n",
    "        \n",
    "        The gernal case is implemented using dynamic programming (memorization). If the last assignment has only simple symbols, it reverses only that sequence.\n",
    "        '''\n",
    "        if not '#' in self.list_form[-1]: # If the SLP is not compressed.\n",
    "            inverse_slp = self.list_form[:-1] # Just repeat the first assignments.\n",
    "            inverse_assmnt = ''\n",
    "            for symbol_assmnt in self.list_form[-1].split('.')[::-1]: # Iterate over the sequence symbols in the reverse order (shoes-socks theorem).\n",
    "                # The if statement avoids double negation.\n",
    "                inverse_assmnt += symbol_assmnt +'.' if symbol_assmnt[-1] != '*' else symbol_assmnt[:-1] +'.'\n",
    "                \n",
    "            inverse_slp.append(inverse_statmente[:-1]) # Delete the ending '.' symbol.\n",
    "            \n",
    "        else: # General compressed case.\n",
    "            inverse_slp = []\n",
    "            for assmnt in self.list_form: # Iterate over all assignments.\n",
    "                inverse_assmnt = ''\n",
    "                for symbol_assmnt in self.list_form[-1].split('.')[::-1]: # Iterate over the sequence symbols in the reverse order (shoes-socks theorem).\n",
    "                    # The if statement avoids double negation.\n",
    "                    inverse_assmnt += symbol_assmnt +'.' if symbol_assmnt[-1] != '*' else symbol_assmnt[:-1] +'.'\n",
    "                \n",
    "                inverse_slp.append(inverse_statmente[:-1]) # Delete the ending '.' symbol.\n",
    "\n",
    "            \n",
    "        if inplace: # If inplace, update the SLP to its inevrse.\n",
    "            self.list_form = inverse_slp\n",
    "        return SLP(inverse_slp)\n",
    "    \n",
    "    \n",
    "    '''\n",
    "    Slightly more complicated operations\n",
    "    '''\n",
    "    \n",
    "    def count(self, symbol):\n",
    "        '''\n",
    "        Count the number of absolute value occurences of a symbol in the SLP.\n",
    "        \n",
    "        symbol : str\n",
    "        Symbol to be counted.\n",
    "        \n",
    "        Ex.: get_count(['x','x*','#0.#1'], x) = 2\n",
    "        \n",
    "        The gernal case is implemented using dynamic programming (memorization), only faster than counting occurances of last sequence if SLP is compressed, otherwise count on the\n",
    "        last assignment.  \n",
    "        '''\n",
    "        if not '#' in self.list_form[-1]: # If the SLP is not compressed.\n",
    "            return self.list_form[-1].count(symbol)\n",
    "        \n",
    "        else:\n",
    "            past_indexes = [] # List of the number of occurances of the symbol for each assignment, counting proper assignments.\n",
    "            current_index = -1 # Keeps track of current index to call error, if impossible assignment.\n",
    "            \n",
    "            for assmnt in self.list_form:\n",
    "                current_index += 1 # Update the current index.\n",
    "                count = assmnt.count(symbol) # The number of occurences of the symbol in the current assignment.\n",
    "                for symbol_assmnt in assmnt.split('.'): # Iterate over the symbols of the assignment. \n",
    "                    if symbol_assmnt[0] == '#': # If a proper assignment, get number of occurences in the assigned value.\n",
    "                        \n",
    "                        # The if statement below is important to deal with negative assigenments (i.e., of form #n*).\n",
    "                        reference = int(symbol_assmnt[1:]) if symbol_assmnt[-1] != '*' else int(symbol_assmnt[1:-1])\n",
    "                        \n",
    "                        if reference > current_index - 1: # If a proper assignment points to a yet unassigned position, raises an error.\n",
    "                            raise ValueError(\"Assigment in position \" + str(current_index) + \" makes reference to unassigned position!\")\n",
    "                        else:\n",
    "                            count += past_indexes[reference] #Update count according to the values of proper asignments.\n",
    "                past_indexes.append(count)\n",
    "\n",
    "\n",
    "            return past_indexes[-1]\n",
    "        \n",
    "        \n",
    "    def signed_count(self, symbol):\n",
    "        '''\n",
    "        Count the number of signed occurences of a symbol in the SLP.\n",
    "        \n",
    "        symbol : str\n",
    "        Symbol to be counted.\n",
    "        \n",
    "        Ex.: SLP(['x','x*','#0.#1.x*']).get_signed_count('x') = 1, SLP(['x','x*','#0.#1.x*']).get_signed_count('x*') = 2\n",
    "        \n",
    "        The gernal case is implemented using dynamic programming (memorization), only faster than counting occurances of last sequence if SLP is compressed, otherwise count on the\n",
    "        last assignment.   \n",
    "        '''\n",
    "        \n",
    "        if not '#' in self.list_form[-1]: # If the SLP is not compressed.\n",
    "            return self.list_form[-1].split('.').count(symbol) # Count exact occurences of the symbol in the assignment.\n",
    "        \n",
    "        else:\n",
    "            inverse = symbol[:-1] if symbol[-1] == '*' else symbol + '*' # Defines the inverse of the symbol, that is 'x'-> 'x*' and 'x*'->'x'.\n",
    "            \n",
    "            past_indexes = [] # List of the number of occurances of the signed symbol for each assignment, counting proper assignments.\n",
    "            past_indexes_inverses = [] # List of the number of occurances of the inverse of signed symbol for each assignment, counting proper assignments.\n",
    "            current_index = -1 # Keeps track of current index to call error, if impossible assignment.\n",
    "            \n",
    "            for assmnt in self.list_form:\n",
    "                current_index += 1 # Update the current index\n",
    "                count = assmnt.split('.').count(symbol) # Count exact occurences of the symbol in the assignment.\n",
    "                count_inverse = assmnt.split('.').count(inverse)\n",
    "                \n",
    "                for symbol_assmnt in assmnt.split('.'): # Iterate over the symbols of the assignment.    \n",
    "                    if symbol_assmnt[0] == '#': # If a proper assignment, get number of occurences in the assigned value.\n",
    "                        \n",
    "                        # The if statement below is important to deal with negative assigenments (i.e., of form #n*).\n",
    "                        reference = int(symbol_assmnt[1:]) if symbol_assmnt[-1] != '*' else int(symbol_assmnt[1:-1])\n",
    "                        \n",
    "                        if reference > current_index - 1: # If a proper assignment points to a yet unassigned position, raises an error.\n",
    "                            raise ValueError(\"Assigment in position \" + str(current_index) + \" makes reference to unassigned position!\")\n",
    "                        else:\n",
    "                            if symbol_assmnt[-1] != '*': # If the assignment is positive (i.e., not followed by a *), the occurences of symbol and inverse are \n",
    "                                                        # computed directly.\n",
    "                                count += past_indexes[reference]\n",
    "                                count_inverse += past_indexes_inverses[reference]\n",
    "                            else: # If the assignement is negative (i.e., followed by a *), the occurences of symbol and its inverse exchange places.\n",
    "                                count += past_indexes_inverses[reference]\n",
    "                                count_inverse += past_indexes[reference]\n",
    "\n",
    "                                \n",
    "                past_indexes.append(count)\n",
    "                past_indexes_inverses.append(count_inverse)\n",
    "        \n",
    "        return past_indexes[-1]\n",
    "    \n",
    "    \n",
    "    def substitute(self, replaced, replacement, inplace = False):\n",
    "        '''\n",
    "        Substitute every occurence of a simple symbol by a sequence, which can be given as a SLP.\n",
    "        \n",
    "        replaced : str\n",
    "        Simple symbol to be replaced.\n",
    "        replacement : str, SLP\n",
    "        The replacement string, can be given as a SLP.\n",
    "        inplace : bool, optional\n",
    "        If True, updates the current SLP to be replaced.\n",
    "        \n",
    "        The gernal case is implemented using dynamic programming (memorization), only faster than counting occurances of last sequence if SLP is compressed, otherwise use string replace on the\n",
    "        last assignment if replacement is a string.\n",
    "        \n",
    "        OBS.: Replacement works for signed variables, but it may give double negation when uncompressing. \n",
    "        '''\n",
    "        if (not '#' in self.list_form[-1]) and type(replacement) == str: # If the SLP is not compressed.\n",
    "            new_slp = [assmnt for assmnt in self.list_form[:-1]]\n",
    "            new_slp.append(self.list_form[-1].replace(replaced, replacement)) # Replace occurences of the symbol in the assignment.\n",
    "        \n",
    "        else:\n",
    "            new_slp = [] # New SLP in list form\n",
    "            \n",
    "            # Deal with replacement being either string or SLP.\n",
    "            replacement = [replacement] if type(replacement) == str else replacement.list_form\n",
    "            \n",
    "            replacement_size = len(replacement) # How many new assignments were added thanks to replacement.\n",
    "            new_slp += replacement # Add replacement to the SLP.\n",
    "            replacement_index = '#' + str(len(replacement) - 1) # The assignment position of the replacement sequence in the new SLP.\n",
    "\n",
    "            \n",
    "            for assmnt in self.list_form:\n",
    "                new_assmnt = ''\n",
    "                for symbol_assmnt in assmnt.split('.'):\n",
    "                    if '#' in symbol_assmnt:  # If a proper asignment.    \n",
    "                        # Add transformed proper assignment to SLP by padding by the size of the replacement to the assignment index. We do the if statemente to avoid problems with *.\n",
    "                        new_assmnt += '#' + str(int(symbol_assmnt[1:]) + replacement_size) + '.' if symbol_assmnt[-1] != '*' else '#' + str(int(symbol_assmnt[1:-1]) + replacement_size) + '*.'\n",
    "                    else: # If simple symbol, only append to new assignment\n",
    "                        new_assmnt += symbol_assmnt + '.'\n",
    "                    \n",
    "                new_assmnt = new_assmnt.replace(replaced, replacement_index) # Replace the target symbol by its index reference\n",
    "                new_slp.append(new_assmnt[:-1]) # Delete last '.' symbol.\n",
    "                                \n",
    "        if inplace: # If inplace == True, substitute the list form to uncompressed form.\n",
    "            self.list_form = new_slp\n",
    "        \n",
    "        return SLP(new_slp)\n",
    "    \n",
    "    \n",
    "    '''\n",
    "    Changes of presentation\n",
    "    '''    \n",
    "    \n",
    "    \n",
    "    def get_uncompressed(self, inplace = False):\n",
    "        '''\n",
    "        Uncompress the SLP by substituting proper assignements for their values.\n",
    "        \n",
    "        inplace : bool, optional\n",
    "        If True, substitute the list form for its uncompressed version.\n",
    "        '''\n",
    "        uncompressed_form = []\n",
    "        \n",
    "        for assmt in self.list_form:\n",
    "            \n",
    "            uncompressed = '' \n",
    "            for symbol_assmnt in assmt.split('.'):                \n",
    "                # If assignments are valid, we iterate over the symbol to check if it is simple or an assignment. \n",
    "                    \n",
    "                if symbol_assmnt[0] == '#': # If a proper assigment, substitute for the actual sequence value.\n",
    "                    \n",
    "                    # The if statement below is important to deal with negative assigenments (i.e., of form #n*).\n",
    "                    reference = int(symbol_assmnt[1:]) if symbol_assmnt[-1] != '*' else int(symbol_assmnt[1:-1])\n",
    "                    \n",
    "                    if symbol_assmnt[-1] != '*': # If the proper assignment is positive, only append it to the sequence.\n",
    "                        uncompressed += uncompressed_form[reference] + '.'\n",
    "                    else:\n",
    "                        # We append the inverse of each element of the assigned value, inverting the order of the sequence (shoes-socks theorem).\n",
    "                        for symbol_uncompressed in uncompressed_form[reference].split('.')[::-1]:\n",
    "                            # To avoid double negation (i.e., **), we do as a if else\n",
    "                            uncompressed += symbol_uncompressed + '*.' if symbol_uncompressed[-1] != '*' else symbol_uncompressed[:-1] + '.'\n",
    "                else: \n",
    "                    uncompressed += symbol_assmnt + '.'\n",
    "            uncompressed = uncompressed[:-1] if uncompressed[-1] == '.' else uncompressed # Delete last occurence of a '.'.\n",
    "            uncompressed_form.append(uncompressed)\n",
    "        \n",
    "        if inplace: # If inplace == True, substitute the list form to uncompressed form.\n",
    "            self.list_form = uncompressed_form\n",
    "        return SLP(uncompressed_form)\n",
    "    \n",
    "    def get_binary(self, inplace = False, dictionary = False):\n",
    "        '''\n",
    "        Transform a general SLP into binary (Chomsky normal form).\n",
    "        \n",
    "        Ex.: SLP(['x*','y','#0.#1.x']).get_binary() -> ['x*','y','#0.#1','x', '#2.#3']\n",
    "        \n",
    "        inplace : bool, optional\n",
    "        If True, update self.list_form for the output.\n",
    "        dictionary : bool, optional\n",
    "        If True, returns the dictionary which maps every assignment and symbol of the input to the corresponding assignment of the output. Might be useful for debugging.\n",
    "        \n",
    "        Implemented using dynamic programming (memorization).\n",
    "        '''\n",
    "        binary_list = []\n",
    "        binary_dic = {}\n",
    "        \n",
    "        for k, assmt in enumerate(self.list_form):\n",
    "            for i, symbol_assmnt in enumerate(assmt.split('.')): # Iterate over the symbols of each assignment to assign them, if necessary.\n",
    "                \n",
    "                j = 0 # What we are doing here is not the most pedagogical code, but it is the faster. The idea is that we will iterate over the symbols of the \n",
    "                # assignment and make them as new assignements if they are not yet in the assignment list. We will also make new assignments so that each proper\n",
    "                # assignment has lenght 2. To make sure we iterate correctly, we use this variable j that tells us whether the last assignments added to the\n",
    "                # assignment list were of lenght 2 (in which case, nothing to do) or if they were of lenght 1, in which case we modify the iteration to concatenate\n",
    "                # with the len(binary_list)-j entry, instead of only len(binary_list).\n",
    "                \n",
    "                if not symbol_assmnt in binary_dic.keys(): # If symbol already in the dictionary keys, we only need to update the list of assignments.\n",
    "                    j += 1 # Update j as we have added a new element to binary_list.\n",
    "                    \n",
    "                    if not '#' in symbol_assmnt:\n",
    "                        binary_list.append(symbol_assmnt) # If a simple symbol, including negative, is part of an assignement, it is separated as a new assignment.\n",
    "                        binary_dic[symbol_assmnt] = '#' + str(len(binary_list)-1) # Add to dictionary of binary list the new symbol.\n",
    "                    \n",
    "                    else: # If an assignment is proper and not yet in the dictionary, it means it is a negative of a previous proper assignment.\n",
    "                        binary_list.append(binary_dic[symbol_assmnt[:-1]] + '*') # If it is a negative assignment, we simply .\n",
    "                        binary_dic[symbol_assmnt] = '#' + str(len(binary_list)-1) \n",
    "\n",
    "                if i == 1:# In the first iteration, concatenate the first and second symbols.\n",
    "                    binary_list.append(binary_dic[assmt.split('.')[0]] + '.' + binary_dic[symbol_assmnt])\n",
    "                \n",
    "                elif i > 1: # If assignement is of form 'x1.x2.x3.x4....' go concatenating with the assignment list ['x1.x2', '#0.x3', '#1.x4', ...].\n",
    "                    binary_list.append('#' +  str(len(binary_list) -1 - j) + '.' + binary_dic[symbol_assmnt])\n",
    "            \n",
    "            binary_dic['#' + str(k)] = '#' + str(len(binary_list)-1) # Rewrite the current assignment of the original list as a binary assignment.\n",
    "        \n",
    "        if inplace: # If inplace == True, substitute the list form to binary form.\n",
    "            self.list_form = binary_list\n",
    "            \n",
    "        \n",
    "        if dictionary: # If dictionary returns binary_dic as well.\n",
    "            return binary_list, binary_dic\n",
    "        \n",
    "        else:\n",
    "            return SLP(binary_list)"
   ]
  },
  {
   "cell_type": "code",
   "execution_count": 470,
   "id": "ccd78746-8027-46da-93d5-5a9ccfefc662",
   "metadata": {
    "tags": []
   },
   "outputs": [
    {
     "name": "stdout",
     "output_type": "stream",
     "text": [
      "0. x\n",
      "1. y\n",
      "2. #0*.#1.x*\n",
      "3. #2*\n",
      "4. #3*.#2\n"
     ]
    }
   ],
   "source": [
    "s = SLP(['x','y','#0*.#1.x*', '#2*', '#3*.#2'])\n",
    "print(s)"
   ]
  },
  {
   "cell_type": "code",
   "execution_count": 471,
   "id": "258f532e-6d5c-4709-b6c3-10d86645414e",
   "metadata": {
    "tags": []
   },
   "outputs": [
    {
     "data": {
      "text/plain": [
       "4"
      ]
     },
     "execution_count": 471,
     "metadata": {},
     "output_type": "execute_result"
    }
   ],
   "source": [
    "s.count('x')"
   ]
  },
  {
   "cell_type": "code",
   "execution_count": 472,
   "id": "59d64c85-d178-4c0a-adb1-d2cb6a6f6d4b",
   "metadata": {
    "tags": []
   },
   "outputs": [
    {
     "data": {
      "text/plain": [
       "0"
      ]
     },
     "execution_count": 472,
     "metadata": {},
     "output_type": "execute_result"
    }
   ],
   "source": [
    "s.signed_count('x')"
   ]
  },
  {
   "cell_type": "code",
   "execution_count": 473,
   "id": "ae976cbc-f90d-4077-ac31-374a4e53ba7e",
   "metadata": {
    "tags": []
   },
   "outputs": [
    {
     "data": {
      "text/plain": [
       "6"
      ]
     },
     "execution_count": 473,
     "metadata": {},
     "output_type": "execute_result"
    }
   ],
   "source": [
    "len(s)"
   ]
  },
  {
   "cell_type": "code",
   "execution_count": 474,
   "id": "6cd42c31-7ef2-4fa7-b853-a7f718501e25",
   "metadata": {
    "tags": []
   },
   "outputs": [
    {
     "name": "stdout",
     "output_type": "stream",
     "text": [
      "8\n"
     ]
    }
   ],
   "source": [
    "input_complexity = s.complexity()\n",
    "print(input_complexity)"
   ]
  },
  {
   "cell_type": "code",
   "execution_count": 475,
   "id": "986cf64b-5934-4ace-afa9-e7a8e350c314",
   "metadata": {
    "tags": []
   },
   "outputs": [
    {
     "data": {
      "text/plain": [
       "False"
      ]
     },
     "execution_count": 475,
     "metadata": {},
     "output_type": "execute_result"
    }
   ],
   "source": [
    "type(s) == list"
   ]
  },
  {
   "cell_type": "code",
   "execution_count": 476,
   "id": "e11cd7fa-857c-4642-9a40-ceb2de521279",
   "metadata": {
    "tags": []
   },
   "outputs": [
    {
     "name": "stdout",
     "output_type": "stream",
     "text": [
      "0. x\n",
      "1. y\n",
      "2. x*.y.x*\n",
      "3. x.y*.x\n",
      "4. x*.y.x*.x*.y.x*\n",
      "\n",
      "\n",
      "0. t\n",
      "1. #0\n",
      "2. y\n",
      "3. #1*.#2.#0*\n",
      "4. #3*\n",
      "5. #4*.#3\n",
      "\n",
      "\n",
      "0. t\n",
      "1. t\n",
      "2. y\n",
      "3. t*.y.t*\n",
      "4. t.y*.t\n",
      "5. t*.y.t*.t*.y.t*\n"
     ]
    }
   ],
   "source": [
    "print(s.get_uncompressed())\n",
    "print('\\n')\n",
    "\n",
    "print(s.substitute('x','t'))\n",
    "\n",
    "print('\\n')\n",
    "print(s.substitute('x','t').get_uncompressed())"
   ]
  },
  {
   "cell_type": "code",
   "execution_count": 477,
   "id": "2334433e-69c7-4a67-a110-39ff49a70f99",
   "metadata": {
    "tags": []
   },
   "outputs": [
    {
     "name": "stdout",
     "output_type": "stream",
     "text": [
      "0. x\n",
      "1. y\n",
      "2. x*.y.x*\n",
      "3. x.y*.x\n",
      "4. x*.y.x*.x*.y.x*\n",
      "\n",
      "\n",
      "0. x\n",
      "1. #0.#0*\n",
      "2. #1\n",
      "3. y\n",
      "4. #2*.#3.#1*\n",
      "5. #4*\n",
      "6. #5*.#4\n",
      "\n",
      "\n",
      "0. x\n",
      "1. x.x*\n",
      "2. x.x*\n",
      "3. y\n",
      "4. x.x*.y.x.x*\n",
      "5. x.x*.y*.x.x*\n",
      "6. x.x*.y.x.x*.x.x*.y.x.x*\n"
     ]
    }
   ],
   "source": [
    "print(s.get_uncompressed())\n",
    "print('\\n')\n",
    "\n",
    "print(s.substitute('x',SLP(['x','#0.#0*'])))\n",
    "\n",
    "print('\\n')\n",
    "print(s.substitute('x',SLP(['x','#0.#0*'])).get_uncompressed())"
   ]
  },
  {
   "cell_type": "code",
   "execution_count": 478,
   "id": "22c074a6-9c35-4da3-b9d1-2b2704dd28e8",
   "metadata": {
    "tags": []
   },
   "outputs": [
    {
     "name": "stdout",
     "output_type": "stream",
     "text": [
      "0. y.x*\n",
      "1. x.y*.y.x.y*.y.x*.x.y*.y.x.y*.y.x*\n"
     ]
    }
   ],
   "source": [
    "print(SLP(['x*.y.x*.x.x*.y.x*.x']).substitute('x',SLP(['y.x*'])).get_uncompressed())"
   ]
  },
  {
   "cell_type": "code",
   "execution_count": 479,
   "id": "02be6cb8-ae93-407d-9a61-ff8c5b2fba97",
   "metadata": {
    "tags": []
   },
   "outputs": [
    {
     "name": "stdout",
     "output_type": "stream",
     "text": [
      "0. x.y*\n",
      "1. y.x*.y.y.x*.x.y*.y.x*.y.y.x*.x.y*\n"
     ]
    }
   ],
   "source": [
    "print(SLP(['x.y*','#0*.y.#0*.#0.#0*.y.#0*.#0']).get_uncompressed())"
   ]
  },
  {
   "cell_type": "code",
   "execution_count": 480,
   "id": "bebc8c2c-4152-48b8-9a37-27f802c32bf8",
   "metadata": {
    "tags": []
   },
   "outputs": [
    {
     "data": {
      "text/plain": [
       "(['x', 'y', '#0*', '#2.#1', 'x*', '#3.#4', '#5*', '#6*', '#7.#5'],\n",
       " {'x': '#0',\n",
       "  '#0': '#0',\n",
       "  'y': '#1',\n",
       "  '#1': '#1',\n",
       "  '#0*': '#2',\n",
       "  'x*': '#4',\n",
       "  '#2': '#5',\n",
       "  '#2*': '#6',\n",
       "  '#3': '#6',\n",
       "  '#3*': '#7',\n",
       "  '#4': '#8'})"
      ]
     },
     "execution_count": 480,
     "metadata": {},
     "output_type": "execute_result"
    }
   ],
   "source": [
    "s.get_binary(inplace = True, dictionary = True)"
   ]
  },
  {
   "cell_type": "code",
   "execution_count": 481,
   "id": "2b6d571c-2be6-4791-9166-0e54c8440604",
   "metadata": {
    "tags": []
   },
   "outputs": [
    {
     "name": "stdout",
     "output_type": "stream",
     "text": [
      "0. x\n",
      "1. y\n",
      "2. #0*\n",
      "3. #2.#1\n",
      "4. x*\n",
      "5. #3.#4\n",
      "6. #5*\n",
      "7. #6*\n",
      "8. #7.#5\n"
     ]
    }
   ],
   "source": [
    "print(s)"
   ]
  },
  {
   "cell_type": "code",
   "execution_count": 482,
   "id": "ecc9fb6b-7fe7-4480-8478-f5c5b379dbfa",
   "metadata": {
    "tags": []
   },
   "outputs": [
    {
     "data": {
      "text/plain": [
       "6"
      ]
     },
     "execution_count": 482,
     "metadata": {},
     "output_type": "execute_result"
    }
   ],
   "source": [
    "len(s)"
   ]
  },
  {
   "cell_type": "code",
   "execution_count": 483,
   "id": "3b374d23-c6df-4d23-abaa-3ba83f458e4f",
   "metadata": {
    "tags": []
   },
   "outputs": [
    {
     "data": {
      "text/plain": [
       "12"
      ]
     },
     "execution_count": 483,
     "metadata": {},
     "output_type": "execute_result"
    }
   ],
   "source": [
    "s.complexity()"
   ]
  },
  {
   "cell_type": "code",
   "execution_count": 484,
   "id": "fc48fcf5-40d5-46e3-be37-150f40012b8d",
   "metadata": {
    "tags": []
   },
   "outputs": [],
   "source": [
    "assert s.complexity() <= 3*input_complexity # Only true if no * are use"
   ]
  },
  {
   "cell_type": "code",
   "execution_count": 485,
   "id": "5e759f66-668c-48e6-a1b6-73ab2a417432",
   "metadata": {
    "tags": []
   },
   "outputs": [
    {
     "data": {
      "text/plain": [
       "<__main__.SLP at 0x7f14a1427bd0>"
      ]
     },
     "execution_count": 485,
     "metadata": {},
     "output_type": "execute_result"
    }
   ],
   "source": [
    "s = SLP(['x*','y','#0*.#1.x', '#2*', '#3*.#2'])\n",
    "s.get_uncompressed(inplace = True)"
   ]
  },
  {
   "cell_type": "code",
   "execution_count": 486,
   "id": "039ed393-37ac-4e6a-b4b0-4fe099020562",
   "metadata": {
    "tags": []
   },
   "outputs": [
    {
     "data": {
      "text/plain": [
       "4"
      ]
     },
     "execution_count": 486,
     "metadata": {},
     "output_type": "execute_result"
    }
   ],
   "source": [
    "s.count('x')"
   ]
  },
  {
   "cell_type": "code",
   "execution_count": 487,
   "id": "e5e81704-436f-4948-a774-30a9b858b045",
   "metadata": {
    "tags": []
   },
   "outputs": [
    {
     "data": {
      "text/plain": [
       "4"
      ]
     },
     "execution_count": 487,
     "metadata": {},
     "output_type": "execute_result"
    }
   ],
   "source": [
    "s.signed_count('x')"
   ]
  },
  {
   "cell_type": "code",
   "execution_count": 488,
   "id": "1f26f185-e806-4db1-8c92-925b687b2b76",
   "metadata": {
    "tags": []
   },
   "outputs": [
    {
     "data": {
      "text/plain": [
       "6"
      ]
     },
     "execution_count": 488,
     "metadata": {},
     "output_type": "execute_result"
    }
   ],
   "source": [
    "len(s)"
   ]
  },
  {
   "cell_type": "code",
   "execution_count": 489,
   "id": "37650f50-f49f-41f3-93b4-87b764e76cce",
   "metadata": {
    "tags": []
   },
   "outputs": [
    {
     "data": {
      "text/plain": [
       "False"
      ]
     },
     "execution_count": 489,
     "metadata": {},
     "output_type": "execute_result"
    }
   ],
   "source": [
    "d = {'a':'c', 'b':'a'}\n",
    "'c'  in d.keys()"
   ]
  },
  {
   "cell_type": "code",
   "execution_count": 490,
   "id": "f6f3c035-e6c9-4411-b30d-057b5753bc82",
   "metadata": {
    "tags": []
   },
   "outputs": [
    {
     "data": {
      "text/plain": [
       "'x*:y:x*:x:x*'"
      ]
     },
     "execution_count": 490,
     "metadata": {},
     "output_type": "execute_result"
    }
   ],
   "source": [
    "'x*.y.x*.x.x*'.replace('.', ':')"
   ]
  },
  {
   "cell_type": "code",
   "execution_count": 491,
   "id": "09126a37-6405-46f8-8015-5943513d1234",
   "metadata": {
    "tags": []
   },
   "outputs": [
    {
     "data": {
      "text/plain": [
       "'x*.y.x*.x.x'"
      ]
     },
     "execution_count": 491,
     "metadata": {},
     "output_type": "execute_result"
    }
   ],
   "source": [
    "'x*.y.x*.x.x*'[:-1]"
   ]
  },
  {
   "cell_type": "code",
   "execution_count": 492,
   "id": "9a81f35b-de73-4bc9-a425-4cc90da59fea",
   "metadata": {
    "tags": []
   },
   "outputs": [
    {
     "data": {
      "text/plain": [
       "[4, 3, 2, 1]"
      ]
     },
     "execution_count": 492,
     "metadata": {},
     "output_type": "execute_result"
    }
   ],
   "source": [
    "v = [1,2,3,4]\n",
    "v[::-1]"
   ]
  },
  {
   "cell_type": "code",
   "execution_count": 493,
   "id": "68eb488b-3f5b-40a1-9199-62a362b2ba7e",
   "metadata": {},
   "outputs": [],
   "source": [
    "def test_slp(string, symbol = None, verbose = True):\n",
    "    original =  SLP(string)\n",
    "    original_length = len(original)\n",
    "    \n",
    "    binary =  original.get_binary()\n",
    "    binary_length = len(binary)\n",
    "    \n",
    "    uncompressed = original.get_uncompressed()\n",
    "    uncompressed_length = len(uncompressed)\n",
    "    \n",
    "    if (binary_length != original_length) or (uncompressed_length != original_length):\n",
    "        raise ValueError('Implementation mistake in length!')\n",
    "    \n",
    "    if symbol != None:\n",
    "        if (binary.count(symbol) != original.count(symbol)) or (uncompressed.count(symbol) != original.count(symbol)):\n",
    "                    print('Count original: ', original.count(symbol))\n",
    "                    print('Count binary: ', binary.count(symbol))\n",
    "                    print('Count uncompressed: ', uncompressed.count(uncompressed))\n",
    "                    raise ValueError('Implementation mistake in count!')\n",
    "        else:\n",
    "            print('Count original: ', original.count(symbol))\n",
    "            print('Count binary: ', binary.count(symbol))\n",
    "            print('Count uncompressed: ', uncompressed.count(symbol))\n",
    "    \n",
    "    if verbose:\n",
    "        print('Original: ')\n",
    "        print(original)\n",
    "        print('Lenght: ', len(original))\n",
    "        print('Complexity: ', original.complexity())\n",
    "        print('\\n')\n",
    "        print('Binary: ')\n",
    "        print(binary)\n",
    "        print('Lenght: ', len(binary))\n",
    "        print('Complexity: ', binary.complexity())\n",
    "        print('\\n')\n",
    "        print('Uncompressed: ')\n",
    "        print(uncompressed)\n",
    "        print('Lenght: ', len(uncompressed))\n",
    "        print('Complexity: ', uncompressed.complexity())\n",
    "    \n",
    "    return None"
   ]
  },
  {
   "cell_type": "code",
   "execution_count": 494,
   "id": "195b62f7-0680-4de4-94ea-8e7613e9f3cb",
   "metadata": {
    "tags": []
   },
   "outputs": [
    {
     "name": "stdout",
     "output_type": "stream",
     "text": [
      "Count original:  4\n",
      "Count binary:  4\n",
      "Count uncompressed:  4\n",
      "Original: \n",
      "0. x\n",
      "1. y\n",
      "2. #0*.y*.#0\n",
      "3. #2.#2*\n",
      "4. z.#3.#1\n",
      "Lenght:  8\n",
      "Complexity:  10\n",
      "\n",
      "\n",
      "Binary: \n",
      "0. x\n",
      "1. y\n",
      "2. #0*\n",
      "3. y*\n",
      "4. #2.#3\n",
      "5. #4.#0\n",
      "6. #5*\n",
      "7. #5.#6\n",
      "8. z\n",
      "9. #8.#7\n",
      "10. #9.#1\n",
      "Lenght:  8\n",
      "Complexity:  16\n",
      "\n",
      "\n",
      "Uncompressed: \n",
      "0. x\n",
      "1. y\n",
      "2. x*.y*.x\n",
      "3. x*.y*.x.x*.y.x\n",
      "4. z.x*.y*.x.x*.y.x.y\n",
      "Lenght:  8\n",
      "Complexity:  19\n"
     ]
    }
   ],
   "source": [
    "test_slp(['x','y', '#0*.y*.#0', '#2.#2*','z.#3.#1'], symbol = 'x')"
   ]
  },
  {
   "cell_type": "code",
   "execution_count": null,
   "id": "0a7f3dc6-6325-40bc-919f-5efd645da979",
   "metadata": {},
   "outputs": [],
   "source": []
  },
  {
   "cell_type": "code",
   "execution_count": null,
   "id": "955290ec-afea-4c9e-b7ad-6c9d5589ab82",
   "metadata": {},
   "outputs": [],
   "source": []
  },
  {
   "cell_type": "code",
   "execution_count": null,
   "id": "9a8d4b00-df25-4b5e-9ee0-4e5d131ab994",
   "metadata": {},
   "outputs": [],
   "source": []
  },
  {
   "cell_type": "code",
   "execution_count": null,
   "id": "2dfff621-c98f-4b05-91a9-b910a213c8a3",
   "metadata": {},
   "outputs": [],
   "source": []
  },
  {
   "cell_type": "code",
   "execution_count": null,
   "id": "bac52be2-bfd6-4a57-b237-992dca337783",
   "metadata": {},
   "outputs": [],
   "source": []
  },
  {
   "cell_type": "code",
   "execution_count": null,
   "id": "c29e7671-7316-4911-bb01-b558e7560241",
   "metadata": {},
   "outputs": [],
   "source": []
  }
 ],
 "metadata": {
  "kernelspec": {
   "display_name": "Python 3 (ipykernel)",
   "language": "python",
   "name": "python3"
  },
  "language_info": {
   "codemirror_mode": {
    "name": "ipython",
    "version": 3
   },
   "file_extension": ".py",
   "mimetype": "text/x-python",
   "name": "python",
   "nbconvert_exporter": "python",
   "pygments_lexer": "ipython3",
   "version": "3.11.5"
  }
 },
 "nbformat": 4,
 "nbformat_minor": 5
}
