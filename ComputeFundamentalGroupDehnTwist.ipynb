{
 "cells": [
  {
   "cell_type": "code",
   "execution_count": 1,
   "id": "568ef84f-2d40-4d03-ab5f-2fb9da972eee",
   "metadata": {},
   "outputs": [],
   "source": [
    "import numpy as np\n",
    "from IPython.display import display, Latex"
   ]
  },
  {
   "cell_type": "code",
   "execution_count": 2,
   "id": "6a9d8cde-450e-4374-8d15-b495e0e3875c",
   "metadata": {},
   "outputs": [],
   "source": [
    "def tildeAlpha(g, i, n):\n",
    "    alpha_mat = np.identity(3*g-1)\n",
    "    alpha_mat[i-1, g-1+i] = n\n",
    "\n",
    "    return alpha_mat"
   ]
  },
  {
   "cell_type": "code",
   "execution_count": 3,
   "id": "7a7679e2-7ffb-4032-b447-3ee1470089fe",
   "metadata": {},
   "outputs": [
    {
     "data": {
      "text/plain": [
       "array([[1., 0., 5., 0., 0.],\n",
       "       [0., 1., 0., 0., 0.],\n",
       "       [0., 0., 1., 0., 0.],\n",
       "       [0., 0., 0., 1., 0.],\n",
       "       [0., 0., 0., 0., 1.]])"
      ]
     },
     "execution_count": 3,
     "metadata": {},
     "output_type": "execute_result"
    }
   ],
   "source": [
    "tildeAlpha(2,1,5)"
   ]
  },
  {
   "cell_type": "code",
   "execution_count": 4,
   "id": "902c8e81-6c7d-43a2-b933-5f4c8538b972",
   "metadata": {},
   "outputs": [
    {
     "data": {
      "text/plain": [
       "array([[1., 0., 0., 0., 0.],\n",
       "       [0., 1., 0., 5., 0.],\n",
       "       [0., 0., 1., 0., 0.],\n",
       "       [0., 0., 0., 1., 0.],\n",
       "       [0., 0., 0., 0., 1.]])"
      ]
     },
     "execution_count": 4,
     "metadata": {},
     "output_type": "execute_result"
    }
   ],
   "source": [
    "tildeAlpha(2,2,5)"
   ]
  },
  {
   "cell_type": "code",
   "execution_count": 302,
   "id": "75d99e5e-087b-4063-b98f-3d1e7193f79f",
   "metadata": {},
   "outputs": [],
   "source": [
    "def tildeBeta(g,i,n):\n",
    "    beta_mat = np.identity(3*g-1)\n",
    "    if g == 1:\n",
    "        beta_mat[g+i-1, i-1] = n\n",
    "    elif g > 1:\n",
    "        if i == 1:\n",
    "            beta_mat[g-1+i, i-1] = n\n",
    "            beta_mat[g-1+i, g-1+i] = 1\n",
    "            beta_mat[g-1+i, 2*g+i-1] = n\n",
    "\n",
    "        elif i == g:\n",
    "            beta_mat[g-1+i, i-1] = n\n",
    "            beta_mat[g-1+i, g-1+i] = 1\n",
    "            beta_mat[g-1+i, 2*g-2+i] = n\n",
    "\n",
    "        else:\n",
    "            beta_mat[g-1+i, i-1] = n\n",
    "            beta_mat[g-1+i, g-1+i] = 1\n",
    "            beta_mat[g-1+i, 2*g-1+i] = n\n",
    "            beta_mat[g-1+i, 2*g+i] = n\n",
    "\n",
    "    else:\n",
    "        raise('The value g represents the of the surface and is assumed to be positive!')\n",
    "\n",
    "    return beta_mat"
   ]
  },
  {
   "cell_type": "code",
   "execution_count": 159,
   "id": "e555fe8d-4bc4-471f-8cca-ea15aa85d2d1",
   "metadata": {},
   "outputs": [
    {
     "data": {
      "text/plain": [
       "array([[1., 0.],\n",
       "       [1., 1.]])"
      ]
     },
     "execution_count": 159,
     "metadata": {},
     "output_type": "execute_result"
    }
   ],
   "source": [
    "tildeBeta(1,1,1)"
   ]
  },
  {
   "cell_type": "code",
   "execution_count": 317,
   "id": "6a65fd77-ed68-4e92-88a2-ffabdf6137b2",
   "metadata": {},
   "outputs": [
    {
     "data": {
      "text/plain": [
       "array([[1., 0., 0., 0., 0.],\n",
       "       [0., 1., 0., 0., 0.],\n",
       "       [5., 0., 1., 0., 5.],\n",
       "       [0., 0., 0., 1., 0.],\n",
       "       [0., 0., 0., 0., 1.]])"
      ]
     },
     "execution_count": 317,
     "metadata": {},
     "output_type": "execute_result"
    }
   ],
   "source": [
    "tildeBeta(2,1,5)"
   ]
  },
  {
   "cell_type": "code",
   "execution_count": 318,
   "id": "e75bdfa1-9c73-45fe-bea6-70b9913c2219",
   "metadata": {},
   "outputs": [
    {
     "data": {
      "text/plain": [
       "array([[1., 0., 0., 0., 0.],\n",
       "       [0., 1., 0., 0., 0.],\n",
       "       [0., 0., 1., 0., 0.],\n",
       "       [0., 5., 0., 1., 5.],\n",
       "       [0., 0., 0., 0., 1.]])"
      ]
     },
     "execution_count": 318,
     "metadata": {},
     "output_type": "execute_result"
    }
   ],
   "source": [
    "tildeBeta(2,2,5)"
   ]
  },
  {
   "cell_type": "code",
   "execution_count": 166,
   "id": "c3529733-9031-40da-8883-96eb580110ae",
   "metadata": {},
   "outputs": [],
   "source": [
    "def tildeGamma(g,i,n):\n",
    "    gamma_mat = np.identity(3*g-1)\n",
    "    gamma_mat[2*g+i-1, g+i-1] = n \n",
    "    gamma_mat[2*g+i-1, g+i] = n\n",
    "    \n",
    "    return gamma_mat"
   ]
  },
  {
   "cell_type": "code",
   "execution_count": 167,
   "id": "923e43a8-2e7a-4124-a1fe-7870e2872749",
   "metadata": {},
   "outputs": [
    {
     "data": {
      "text/plain": [
       "array([[1., 0., 0., 0., 0.],\n",
       "       [0., 1., 0., 0., 0.],\n",
       "       [0., 0., 1., 0., 0.],\n",
       "       [0., 0., 0., 1., 0.],\n",
       "       [0., 0., 5., 5., 1.]])"
      ]
     },
     "execution_count": 167,
     "metadata": {},
     "output_type": "execute_result"
    }
   ],
   "source": [
    "tildeGamma(2,1,5)"
   ]
  },
  {
   "cell_type": "code",
   "execution_count": 168,
   "id": "c62b4827-5429-40d2-bd53-4d9b60fdf9f9",
   "metadata": {},
   "outputs": [
    {
     "data": {
      "text/latex": [
       "$x_1^2$"
      ],
      "text/plain": [
       "<IPython.core.display.Latex object>"
      ]
     },
     "metadata": {},
     "output_type": "display_data"
    }
   ],
   "source": [
    "display(Latex('$x_1^2$'))"
   ]
  },
  {
   "cell_type": "code",
   "execution_count": 11,
   "id": "91a185d7-a726-4db9-a861-e8abdf561b3a",
   "metadata": {},
   "outputs": [],
   "source": [
    "a = 'A'"
   ]
  },
  {
   "cell_type": "code",
   "execution_count": 309,
   "id": "451d0381-8fed-4533-a889-915eade34e96",
   "metadata": {},
   "outputs": [],
   "source": [
    "def getPresentationMatrix(g, Sigma, fundamental_group = True):\n",
    "    A = np.zeros((g,g))\n",
    "    images_alpha = []\n",
    "    if fundamental_group:\n",
    "        fg_string = ''\n",
    "        relators = '|'\n",
    "\n",
    "    #iterate over the homeomorphism in order of the word actions\n",
    "    SigmaList  = Sigma.split('.')\n",
    "    SigmaList.reverse()\n",
    "    \n",
    "    #iterate over each alpha_i\n",
    "    for i in range(g):\n",
    "            \n",
    "        #v_i will represent the image Sigma(alpha_i) at all steps\n",
    "        v_i = np.zeros(3*g-1)\n",
    "        v_i[i] = 1\n",
    "\n",
    "        #add generator\n",
    "        if fundamental_group:\n",
    "            fg_string += 'x_' + str(i+1)\n",
    "            betas = v_i[g:2*g]\n",
    "            \n",
    "        for j in SigmaList:\n",
    "            #get the type of curve which the Dehn twist is applied\n",
    "            letter = j[0]\n",
    "\n",
    "            #get the index of the Dehn twist\n",
    "            after_subindex = j.split('_')[-1]\n",
    "            if after_subindex[0] == '{':\n",
    "                index = int(after_subindex.split('{')[1].split('}')[0])\n",
    "            else:\n",
    "                index = int(after_subindex[0])\n",
    "\n",
    "            #get the exponential of the Dehn twist\n",
    "            after_exponential = j.split('^')\n",
    "            if len(after_exponential) != 1:\n",
    "                after_exponential = after_exponential[-1]\n",
    "                if after_exponential[0] == '{':\n",
    "                    exponential = int(after_exponential.split('{')[1].split('}')[0])\n",
    "                else:\n",
    "                    exponential = int(after_exponential[0])\n",
    "            else:\n",
    "                exponential = 1\n",
    "        \n",
    "            if letter == 'a':\n",
    "                v_i = tildeAlpha(g, index, exponential) @ v_i\n",
    "            elif letter == 'b':\n",
    "                v_i = tildeBeta(g, index, exponential) @ v_i\n",
    "            elif letter == 'c':\n",
    "                v_i = tildeGamma(g, index, exponential) @ v_i\n",
    "            else:\n",
    "                 raise Exception(\"Incorrect surface diffeomorphism!\")\n",
    "           \n",
    "            #if any of the betas changed on this step, we add the corresponding relator to \n",
    "            if fundamental_group:\n",
    "                for count, beta in enumerate(v_i[g:2*g].tolist()): \n",
    "                    if beta != betas[count]:\n",
    "                        relators += 'x_{' + str(count+1) + '}^{' + str(int(beta-betas[count])) + '}'\n",
    "                betas = v_i[g:2*g]\n",
    "                    \n",
    "                \n",
    "        A[i] = v_i[g:2*g]\n",
    "        images_alpha.append(list(v_i))\n",
    "\n",
    "        if fundamental_group:\n",
    "            if i != g-1:\n",
    "                fg_string += ', '\n",
    "                relators += ', '\n",
    "    \n",
    "    if fundamental_group:\n",
    "        display(Latex( '$' + fg_string + relators + '$'))\n",
    "\n",
    "    return A, images_alpha"
   ]
  },
  {
   "cell_type": "code",
   "execution_count": 310,
   "id": "99521890-30b8-48a8-845a-ec45435c452d",
   "metadata": {},
   "outputs": [
    {
     "data": {
      "text/latex": [
       "$x_1|x_{1}^{1}$"
      ],
      "text/plain": [
       "<IPython.core.display.Latex object>"
      ]
     },
     "metadata": {},
     "output_type": "display_data"
    },
    {
     "data": {
      "text/plain": [
       "(array([[1.]]), [[0.0, 1.0]])"
      ]
     },
     "execution_count": 310,
     "metadata": {},
     "output_type": "execute_result"
    }
   ],
   "source": [
    "getPresentationMatrix(1, 'a_1^{-1}.b_1.a_1')"
   ]
  },
  {
   "cell_type": "code",
   "execution_count": 311,
   "id": "a322d07d-ef0d-4a24-9cf9-b60fecd8df57",
   "metadata": {},
   "outputs": [
    {
     "data": {
      "text/latex": [
       "$x_1|x_{1}^{10}$"
      ],
      "text/plain": [
       "<IPython.core.display.Latex object>"
      ]
     },
     "metadata": {},
     "output_type": "display_data"
    },
    {
     "data": {
      "text/plain": [
       "(array([[10.]]), [[-9.0, 10.0]])"
      ]
     },
     "execution_count": 311,
     "metadata": {},
     "output_type": "execute_result"
    }
   ],
   "source": [
    "getPresentationMatrix(1, 'a_1^{-1}.b_1^{10}.a_1')"
   ]
  },
  {
   "cell_type": "code",
   "execution_count": 312,
   "id": "46827b28-445e-4824-a15a-e2097dcb7f76",
   "metadata": {},
   "outputs": [
    {
     "data": {
      "text/latex": [
       "$x_1, x_2|x_{1}^{1}, $"
      ],
      "text/plain": [
       "<IPython.core.display.Latex object>"
      ]
     },
     "metadata": {},
     "output_type": "display_data"
    },
    {
     "data": {
      "text/plain": [
       "(array([[1., 0.],\n",
       "        [0., 0.]]),\n",
       " [[0.0, 0.0, 1.0, 0.0, 0.0], [0.0, 1.0, 0.0, 0.0, 0.0]])"
      ]
     },
     "execution_count": 312,
     "metadata": {},
     "output_type": "execute_result"
    }
   ],
   "source": [
    "getPresentationMatrix(2, 'a_1^{-1}.b_1.a_1')"
   ]
  },
  {
   "cell_type": "code",
   "execution_count": 313,
   "id": "42e134cf-aa61-440e-b356-104098ea49a4",
   "metadata": {},
   "outputs": [
    {
     "data": {
      "text/latex": [
       "$x_1, x_2|x_{1}^{1}x_{2}^{1}, x_{2}^{1}$"
      ],
      "text/plain": [
       "<IPython.core.display.Latex object>"
      ]
     },
     "metadata": {},
     "output_type": "display_data"
    },
    {
     "data": {
      "text/plain": [
       "(array([[1., 1.],\n",
       "        [0., 1.]]),\n",
       " [[1.0, 0.0, 1.0, 1.0, 1.0], [0.0, 1.0, 0.0, 1.0, 0.0]])"
      ]
     },
     "execution_count": 313,
     "metadata": {},
     "output_type": "execute_result"
    }
   ],
   "source": [
    "getPresentationMatrix(2, 'b_2.c_1.b_1')"
   ]
  },
  {
   "cell_type": "code",
   "execution_count": 314,
   "id": "4990d0c0-aa05-4803-b900-fa2a22109198",
   "metadata": {},
   "outputs": [
    {
     "data": {
      "text/latex": [
       "$x_1, x_2|x_{1}^{4}x_{1}^{30}, x_{2}^{1}x_{1}^{16}x_{1}^{120}$"
      ],
      "text/plain": [
       "<IPython.core.display.Latex object>"
      ]
     },
     "metadata": {},
     "output_type": "display_data"
    },
    {
     "data": {
      "text/plain": [
       "(array([[ 34.,   0.],\n",
       "        [136.,   1.]]),\n",
       " [[-29.0, 0.0, 34.0, 0.0, 0.0], [-120.0, 0.0, 136.0, 1.0, 4.0]])"
      ]
     },
     "execution_count": 314,
     "metadata": {},
     "output_type": "execute_result"
    }
   ],
   "source": [
    "getPresentationMatrix(2, 'a_1^{-1}.b_1^6.a_1.b_1^4.c_1^4.b_2^4.a_2^{-1}.b_2.a_2')"
   ]
  },
  {
   "cell_type": "code",
   "execution_count": 315,
   "id": "e3aca9fc-13a4-44fd-a193-6013cd469495",
   "metadata": {},
   "outputs": [
    {
     "data": {
      "text/latex": [
       "$x_1, x_2|x_{1}^{1}, $"
      ],
      "text/plain": [
       "<IPython.core.display.Latex object>"
      ]
     },
     "metadata": {},
     "output_type": "display_data"
    },
    {
     "data": {
      "text/plain": [
       "(array([[1., 0.],\n",
       "        [0., 0.]]),\n",
       " [[0.0, 0.0, 1.0, 0.0, 0.0], [0.0, 1.0, 0.0, 0.0, 0.0]])"
      ]
     },
     "execution_count": 315,
     "metadata": {},
     "output_type": "execute_result"
    }
   ],
   "source": [
    "getPresentationMatrix(2, 'b_1^4.a_1^{-1}.b_1.a_1')"
   ]
  },
  {
   "cell_type": "code",
   "execution_count": 316,
   "id": "df399648-ebb0-404e-bb75-01821a448eac",
   "metadata": {},
   "outputs": [
    {
     "data": {
      "text/plain": [
       "array([[1., 0., 0., 0., 0.],\n",
       "       [0., 1., 0., 0., 0.],\n",
       "       [4., 0., 1., 0., 4.],\n",
       "       [0., 0., 0., 1., 0.],\n",
       "       [0., 0., 0., 0., 1.]])"
      ]
     },
     "execution_count": 316,
     "metadata": {},
     "output_type": "execute_result"
    }
   ],
   "source": [
    "tildeBeta(2, 1, 4)"
   ]
  },
  {
   "cell_type": "code",
   "execution_count": null,
   "id": "b0a6d54d-6882-4dad-b120-7ce569bc3d77",
   "metadata": {},
   "outputs": [],
   "source": []
  },
  {
   "cell_type": "code",
   "execution_count": null,
   "id": "1c8d5aff-e3f7-4a77-a247-7ade550e801f",
   "metadata": {},
   "outputs": [],
   "source": []
  }
 ],
 "metadata": {
  "kernelspec": {
   "display_name": "Python 3 (ipykernel)",
   "language": "python",
   "name": "python3"
  },
  "language_info": {
   "codemirror_mode": {
    "name": "ipython",
    "version": 3
   },
   "file_extension": ".py",
   "mimetype": "text/x-python",
   "name": "python",
   "nbconvert_exporter": "python",
   "pygments_lexer": "ipython3",
   "version": "3.11.5"
  }
 },
 "nbformat": 4,
 "nbformat_minor": 5
}
